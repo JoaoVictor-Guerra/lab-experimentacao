{
 "cells": [
  {
   "cell_type": "code",
   "execution_count": null,
   "metadata": {},
   "outputs": [],
   "source": [
    "import pandas as pd\n",
    "\n",
    "def get_column_data(csv_file, column_name):\n",
    "    try:\n",
    "        df = pd.read_csv(csv_file)\n",
    "        if column_name in df.columns:\n",
    "            return df[column_name].tolist()\n",
    "        else:\n",
    "            return None  # Retorna None se a coluna não existir\n",
    "    except Exception as e:\n",
    "        print(f\"Erro ao ler o arquivo CSV: {e}\")\n",
    "        return None\n",
    "\n",
    "csv_file = \"stats/metricas_repo_combined.csv\""
   ]
  },
  {
   "cell_type": "code",
   "execution_count": null,
   "metadata": {},
   "outputs": [],
   "source": [
    "import matplotlib.pyplot as plt\n",
    "\n",
    "def plot_scatter(x_data, y_data, x_label, y_label):\n",
    "    \"\"\"\n",
    "    Args:\n",
    "        x_data (list or array): Os dados para o eixo X.\n",
    "        y_data (list or array): Os dados para o eixo Y.\n",
    "        x_label (str): Rótulo do eixo X.\n",
    "        y_label (str): Rótulo do eixo Y.\n",
    "    \"\"\"\n",
    "    plt.scatter(x_data, y_data)\n",
    "    plt.xlabel(x_label)\n",
    "    plt.ylabel(y_label)\n",
    "    plt.title('Gráfico de Dispersão')\n",
    "    plt.grid(True)\n",
    "    plt.show()\n",
    "\n",
    "\n",
    "\n",
    "\n",
    "\n"
   ]
  },
  {
   "cell_type": "markdown",
   "metadata": {},
   "source": [
    "## Popularidade"
   ]
  },
  {
   "cell_type": "code",
   "execution_count": null,
   "metadata": {},
   "outputs": [],
   "source": [
    "plot_scatter(get_column_data(csv_file, \"estrelas\"), get_column_data(csv_file, \"DIT\"), \"Estrelas\", \"DIT\")\n",
    "plot_scatter(get_column_data(csv_file, \"estrelas\"), get_column_data(csv_file, \"CBO\"), \"Estrelas\", \"CBO\")\n",
    "plot_scatter(get_column_data(csv_file, \"estrelas\"), get_column_data(csv_file, \"LCOM\"), \"Estrelas\", \"LCOM\")"
   ]
  },
  {
   "cell_type": "markdown",
   "metadata": {},
   "source": [
    "## Tamanho"
   ]
  },
  {
   "cell_type": "code",
   "execution_count": null,
   "metadata": {},
   "outputs": [],
   "source": [
    "plot_scatter(get_column_data(csv_file, \"LOC\"), get_column_data(csv_file, \"DIT\"), \"LOC\", \"DIT\")\n",
    "plot_scatter(get_column_data(csv_file, \"LOC\"), get_column_data(csv_file, \"CBO\"), \"LOC\", \"CBO\")\n",
    "plot_scatter(get_column_data(csv_file, \"LOC\"), get_column_data(csv_file, \"LCOM\"), \"LOC\", \"LCOM\")"
   ]
  },
  {
   "cell_type": "markdown",
   "metadata": {},
   "source": [
    "## Atividade"
   ]
  },
  {
   "cell_type": "code",
   "execution_count": null,
   "metadata": {},
   "outputs": [],
   "source": [
    "plot_scatter(get_column_data(csv_file, \"releases\"), get_column_data(csv_file, \"DIT\"), \"releases\", \"DIT\")\n",
    "plot_scatter(get_column_data(csv_file, \"releases\"), get_column_data(csv_file, \"CBO\"), \"releases\", \"CBO\")\n",
    "plot_scatter(get_column_data(csv_file, \"releases\"), get_column_data(csv_file, \"LCOM\"), \"releases\", \"LCOM\")"
   ]
  },
  {
   "cell_type": "markdown",
   "metadata": {},
   "source": [
    "## Maturidade"
   ]
  },
  {
   "cell_type": "code",
   "execution_count": null,
   "metadata": {},
   "outputs": [],
   "source": [
    "plot_scatter(get_column_data(csv_file, \"idade\"), get_column_data(csv_file, \"DIT\"), \"Idade\", \"DIT\")\n",
    "plot_scatter(get_column_data(csv_file, \"idade\"), get_column_data(csv_file, \"CBO\"), \"Idade\", \"CBO\")\n",
    "plot_scatter(get_column_data(csv_file, \"idade\"), get_column_data(csv_file, \"LCOM\"), \"Idade\", \"LCOM\") "
   ]
  }
 ],
 "metadata": {
  "kernelspec": {
   "display_name": "Python 3",
   "language": "python",
   "name": "python3"
  },
  "language_info": {
   "codemirror_mode": {
    "name": "ipython",
    "version": 3
   },
   "file_extension": ".py",
   "mimetype": "text/x-python",
   "name": "python",
   "nbconvert_exporter": "python",
   "pygments_lexer": "ipython3",
   "version": "3.10.12"
  },
  "orig_nbformat": 4
 },
 "nbformat": 4,
 "nbformat_minor": 2
}
