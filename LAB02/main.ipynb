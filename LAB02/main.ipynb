{
 "cells": [
  {
   "cell_type": "code",
   "execution_count": null,
   "metadata": {},
   "outputs": [],
   "source": [
    "import pandas as pd\n",
    "\n",
    "def get_column_data(csv_file, column_name):\n",
    "    try:\n",
    "        df = pd.read_csv(csv_file)\n",
    "        if column_name in df.columns:\n",
    "            return df[column_name].tolist()\n",
    "        else:\n",
    "            return None  # Retorna None se a coluna não existir\n",
    "    except Exception as e:\n",
    "        print(f\"Erro ao ler o arquivo CSV: {e}\")\n",
    "        return None\n",
    "\n",
    "csv_file = \"stats/metricas_repo_combined.csv\""
   ]
  },
  {
   "cell_type": "code",
   "execution_count": null,
   "metadata": {},
   "outputs": [],
   "source": [
    "import matplotlib.pyplot as plt\n",
    "import os\n",
    "\n",
    "def plot_scatter(x_data, y_data, x_label, y_label, save_plot=False):\n",
    "    \"\"\"\n",
    "    Plota um gráfico de dispersão (scatter plot) com os dados fornecidos e opcionalmente o salva como um arquivo PNG.\n",
    "\n",
    "    Args:\n",
    "        x_data (list or array): Os dados para o eixo X.\n",
    "        y_data (list or array): Os dados para o eixo Y.\n",
    "        x_label (str): Rótulo do eixo X.\n",
    "        y_label (str): Rótulo do eixo Y.\n",
    "        save_plot (bool): Se True, o gráfico será salvo como um arquivo PNG no diretório '/graficos'.\n",
    "    \"\"\"\n",
    "    plt.scatter(x_data, y_data)\n",
    "    plt.ticklabel_format(style='plain', useOffset=False)\n",
    "    plt.xlabel(x_label)\n",
    "    plt.ylabel(y_label)\n",
    "    plt.title(f'Gráfico de Dispersão: {x_label} vs {y_label}')\n",
    "    plt.grid(True)\n",
    "    \n",
    "    if save_plot:\n",
    "        os.makedirs('graficos', exist_ok=True)\n",
    "        file_name = f'grafico_{x_label}_{y_label}.png'\n",
    "        plt.savefig(os.path.join('graficos', file_name))\n",
    "    \n",
    "    plt.show()"
   ]
  },
  {
   "cell_type": "markdown",
   "metadata": {},
   "source": [
    "## Popularidade"
   ]
  },
  {
   "cell_type": "code",
   "execution_count": null,
   "metadata": {},
   "outputs": [],
   "source": [
    "plot_scatter(get_column_data(csv_file, \"estrelas\"), get_column_data(csv_file, \"DIT\"), \"Estrelas\", \"DIT\", True)\n",
    "plot_scatter(get_column_data(csv_file, \"estrelas\"), get_column_data(csv_file, \"CBO\"), \"Estrelas\", \"CBO\", True)\n",
    "plot_scatter(get_column_data(csv_file, \"estrelas\"), get_column_data(csv_file, \"LCOM\"), \"Estrelas\", \"LCOM\", True)"
   ]
  },
  {
   "cell_type": "markdown",
   "metadata": {},
   "source": [
    "## Tamanho"
   ]
  },
  {
   "cell_type": "code",
   "execution_count": null,
   "metadata": {},
   "outputs": [],
   "source": [
    "plot_scatter(get_column_data(csv_file, \"LOC\"), get_column_data(csv_file, \"DIT\"), \"LOC\", \"DIT\", True)\n",
    "plot_scatter(get_column_data(csv_file, \"LOC\"), get_column_data(csv_file, \"CBO\"), \"LOC\", \"CBO\", True)\n",
    "plot_scatter(get_column_data(csv_file, \"LOC\"), get_column_data(csv_file, \"LCOM\"), \"LOC\", \"LCOM\", True)"
   ]
  },
  {
   "cell_type": "markdown",
   "metadata": {},
   "source": [
    "## Atividade"
   ]
  },
  {
   "cell_type": "code",
   "execution_count": null,
   "metadata": {},
   "outputs": [],
   "source": [
    "plot_scatter(get_column_data(csv_file, \"releases\"), get_column_data(csv_file, \"DIT\"), \"releases\", \"DIT\", True)\n",
    "plot_scatter(get_column_data(csv_file, \"releases\"), get_column_data(csv_file, \"CBO\"), \"releases\", \"CBO\", True)\n",
    "plot_scatter(get_column_data(csv_file, \"releases\"), get_column_data(csv_file, \"LCOM\"), \"releases\", \"LCOM\", True)"
   ]
  },
  {
   "cell_type": "markdown",
   "metadata": {},
   "source": [
    "## Maturidade"
   ]
  },
  {
   "cell_type": "code",
   "execution_count": null,
   "metadata": {},
   "outputs": [],
   "source": [
    "plot_scatter(get_column_data(csv_file, \"idade\"), get_column_data(csv_file, \"DIT\"), \"Idade\", \"DIT\", True)\n",
    "plot_scatter(get_column_data(csv_file, \"idade\"), get_column_data(csv_file, \"CBO\"), \"Idade\", \"CBO\", True)\n",
    "plot_scatter(get_column_data(csv_file, \"idade\"), get_column_data(csv_file, \"LCOM\"), \"Idade\", \"LCOM\", True)"
   ]
  }
 ],
 "metadata": {
  "kernelspec": {
   "display_name": "Python 3",
   "language": "python",
   "name": "python3"
  },
  "language_info": {
   "codemirror_mode": {
    "name": "ipython",
    "version": 3
   },
   "file_extension": ".py",
   "mimetype": "text/x-python",
   "name": "python",
   "nbconvert_exporter": "python",
   "pygments_lexer": "ipython3",
   "version": "3.11.5"
  },
  "orig_nbformat": 4
 },
 "nbformat": 4,
 "nbformat_minor": 2
}
